{
 "cells": [
  {
   "cell_type": "code",
   "execution_count": 19,
   "metadata": {},
   "outputs": [],
   "source": [
    "import mysql.connector"
   ]
  },
  {
   "cell_type": "code",
   "execution_count": 25,
   "metadata": {},
   "outputs": [],
   "source": [
    "db = mysql.connector.connect(\n",
    "    host= 'localhost',\n",
    "    user = 'root',\n",
    "    password ='kiprop4170@'\n",
    ")"
   ]
  },
  {
   "cell_type": "code",
   "execution_count": 14,
   "metadata": {},
   "outputs": [
    {
     "name": "stdout",
     "output_type": "stream",
     "text": [
      "Connection successful\n"
     ]
    }
   ],
   "source": [
    "if db:\n",
    "    print(\"Connection successful\")"
   ]
  },
  {
   "cell_type": "code",
   "execution_count": 45,
   "metadata": {},
   "outputs": [],
   "source": [
    "cursor = db.cursor()"
   ]
  },
  {
   "cell_type": "code",
   "execution_count": null,
   "metadata": {},
   "outputs": [],
   "source": [
    "cursor.execute(\"CREATE DATABASE FIRSTSQLDB\")"
   ]
  },
  {
   "cell_type": "code",
   "execution_count": 6,
   "metadata": {},
   "outputs": [],
   "source": [
    "cursor.execute(\"SHOW DATABASES\")"
   ]
  },
  {
   "cell_type": "code",
   "execution_count": 8,
   "metadata": {},
   "outputs": [],
   "source": [
    "for database in cursor:\n",
    "    print(database)"
   ]
  },
  {
   "cell_type": "code",
   "execution_count": 27,
   "metadata": {},
   "outputs": [],
   "source": [
    "cursor.execute(\"use firstsqldb\")"
   ]
  },
  {
   "cell_type": "code",
   "execution_count": 40,
   "metadata": {},
   "outputs": [],
   "source": [
    "cursor.execute(\"Create table Employees (ID INT AUTO_INCREMENT PRIMARY KEY, EmployeeNo Varchar(255), FirstName Varchar(255), LastName Varchar(255), Age INT, Role Varchar(75))\")"
   ]
  },
  {
   "cell_type": "code",
   "execution_count": 28,
   "metadata": {},
   "outputs": [],
   "source": [
    "cursor.execute(\"SHOW tables\")"
   ]
  },
  {
   "cell_type": "code",
   "execution_count": 29,
   "metadata": {},
   "outputs": [
    {
     "name": "stdout",
     "output_type": "stream",
     "text": [
      "('departments',)\n",
      "('employees',)\n"
     ]
    }
   ],
   "source": [
    "for tables in cursor:\n",
    "    print(tables)"
   ]
  },
  {
   "cell_type": "code",
   "execution_count": 43,
   "metadata": {},
   "outputs": [],
   "source": [
    "cursor.execute(\"ALTER table employees add column phone varchar(255)\")"
   ]
  },
  {
   "cell_type": "code",
   "execution_count": null,
   "metadata": {},
   "outputs": [],
   "source": [
    "cursor.execute(\"SHOW tables\")"
   ]
  },
  {
   "cell_type": "code",
   "execution_count": 71,
   "metadata": {},
   "outputs": [
    {
     "name": "stdout",
     "output_type": "stream",
     "text": [
      "('employees',)\n"
     ]
    }
   ],
   "source": [
    "for tables in cursor:\n",
    "    print(tables)"
   ]
  },
  {
   "cell_type": "code",
   "execution_count": 59,
   "metadata": {},
   "outputs": [],
   "source": [
    "cursor.execute(\"DESCRIBE employees\")"
   ]
  },
  {
   "cell_type": "code",
   "execution_count": 73,
   "metadata": {},
   "outputs": [],
   "source": [
    "cursor.execute(\"DROP TABLE IF EXISTS departments\")"
   ]
  },
  {
   "cell_type": "code",
   "execution_count": 75,
   "metadata": {},
   "outputs": [],
   "source": [
    "cursor.execute(\"Create table departments (ID INT AUTO_INCREMENT PRIMARY KEY, Name Varchar(255))\")\n"
   ]
  },
  {
   "cell_type": "code",
   "execution_count": 77,
   "metadata": {},
   "outputs": [],
   "source": [
    "cursor.execute(\"ALTER table departments add column Head INT\")"
   ]
  },
  {
   "cell_type": "code",
   "execution_count": 30,
   "metadata": {},
   "outputs": [],
   "source": [
    "cursor.execute(\"ALTER table departments add FOREIGN KEY (Head) REFERENCES employees(ID) \")"
   ]
  },
  {
   "cell_type": "code",
   "execution_count": 31,
   "metadata": {},
   "outputs": [],
   "source": [
    "cursor.execute(\"SELECT * FROM employees\")"
   ]
  },
  {
   "cell_type": "code",
   "execution_count": 33,
   "metadata": {},
   "outputs": [],
   "source": [
    "for row in cursor:\n",
    "    print(row)"
   ]
  },
  {
   "cell_type": "code",
   "execution_count": 35,
   "metadata": {},
   "outputs": [],
   "source": [
    "cursor.execute(\"ALTER TABLE employees ADD COLUMN DepartmentID INT\")"
   ]
  },
  {
   "cell_type": "code",
   "execution_count": 36,
   "metadata": {},
   "outputs": [],
   "source": [
    "cursor.execute(\"ALTER table employees add FOREIGN KEY (DepartmentID)  REFERENCES departments(id) \")"
   ]
  },
  {
   "cell_type": "code",
   "execution_count": 34,
   "metadata": {},
   "outputs": [],
   "source": [
    "cursor.execute(\"INSERT INTO Departments (name) VALUES ('Human Resources'), ('Engineering'), ('Marketing')\")"
   ]
  },
  {
   "cell_type": "code",
   "execution_count": null,
   "metadata": {},
   "outputs": [],
   "source": []
  },
  {
   "cell_type": "code",
   "execution_count": 37,
   "metadata": {},
   "outputs": [
    {
     "name": "stdout",
     "output_type": "stream",
     "text": [
      "4 rows affected.\n"
     ]
    }
   ],
   "source": [
    "sql = \"INSERT INTO employees (EmployeeNo, FirstName, LastName, DepartmentID ,Age, Phone ) VALUES (%s,%s, %s, %s, %s, %s)\"\n",
    "values= [\n",
    "\n",
    "    ('101', 'Roy', 'Kiprop',1,22,'7004356234'),\n",
    "    ('102', 'Victor', 'Ngeno',2,27,'7004634'),\n",
    "    ('103', 'Brigit', 'Chelangat',3,21,'700436234'),\n",
    "    ('104', 'Emily', 'Ruguru',2,21,'700432634')\n",
    "      ]\n",
    "cursor.executemany(sql,values)\n",
    "\n",
    "#save Changes to DB\n",
    "\n",
    "db.commit()\n",
    "\n",
    "print(cursor.rowcount, \"rows affected.\")"
   ]
  },
  {
   "cell_type": "code",
   "execution_count": null,
   "metadata": {},
   "outputs": [],
   "source": []
  },
  {
   "cell_type": "code",
   "execution_count": 38,
   "metadata": {},
   "outputs": [
    {
     "name": "stdout",
     "output_type": "stream",
     "text": [
      "(1, '101', 'Roy', 'Kiprop', 22, None, '7004356234', 1)\n",
      "(2, '102', 'Victor', 'Ngeno', 27, None, '7004634', 2)\n",
      "(3, '103', 'Brigit', 'Chelangat', 21, None, '700436234', 3)\n",
      "(4, '104', 'Emily', 'Ruguru', 21, None, '700432634', 2)\n"
     ]
    }
   ],
   "source": [
    "data = \"SELECT * FROM employees\"\n",
    "cursor.execute(data)\n",
    "\n",
    "#Fetch data\n",
    "\n",
    "result = cursor.fetchall()\n",
    "\n",
    "#Print data \n",
    "\n",
    "for row in result:\n",
    "    print(row)"
   ]
  },
  {
   "cell_type": "code",
   "execution_count": null,
   "metadata": {},
   "outputs": [],
   "source": []
  },
  {
   "cell_type": "code",
   "execution_count": 39,
   "metadata": {},
   "outputs": [
    {
     "name": "stdout",
     "output_type": "stream",
     "text": [
      "('Kiprop', 22)\n",
      "('Ngeno', 27)\n",
      "('Chelangat', 21)\n",
      "('Ruguru', 21)\n"
     ]
    }
   ],
   "source": [
    "data = \"SELECT LastName, Age FROM employees\"\n",
    "cursor.execute(data)\n",
    "\n",
    "result = cursor.fetchall()\n",
    "\n",
    "for row in result:\n",
    "    print(row)\n",
    "\n"
   ]
  },
  {
   "cell_type": "code",
   "execution_count": 40,
   "metadata": {},
   "outputs": [
    {
     "name": "stdout",
     "output_type": "stream",
     "text": [
      "('Roy', 22)\n",
      "('Emily', 21)\n"
     ]
    }
   ],
   "source": [
    "# SELECT  LIMIT / ORDER / WHERE\n",
    "\n",
    "data = \"SELECT FirstName, Age  FROM employees WHERE Age <26  ORDER BY FirstName DESC LIMIT 2\"\n",
    "cursor.execute(data)\n",
    "\n",
    "#Fetch Values\n",
    "\n",
    "result = cursor.fetchall()\n",
    "\n",
    "#Print values\n",
    "\n",
    "for row in result:\n",
    "    print(row)"
   ]
  },
  {
   "cell_type": "code",
   "execution_count": 42,
   "metadata": {},
   "outputs": [
    {
     "name": "stdout",
     "output_type": "stream",
     "text": [
      "0 rows affected.\n"
     ]
    }
   ],
   "source": [
    "# DELETE WHERE \n",
    "\n",
    "data = \"DELETE  FROM employees WHERE Age < 21\"\n",
    "cursor.execute(data)\n",
    "\n",
    "print(cursor.rowcount, \"rows affected.\")"
   ]
  },
  {
   "cell_type": "code",
   "execution_count": 43,
   "metadata": {},
   "outputs": [
    {
     "name": "stdout",
     "output_type": "stream",
     "text": [
      "2 rows affected.\n"
     ]
    }
   ],
   "source": [
    "# UPDATE \n",
    "\n",
    "data = \"UPDATE employees SET Age = 23 WHERE Age =21\"\n",
    "cursor.execute(data)\n",
    "\n",
    "print(cursor.rowcount, \"rows affected.\")"
   ]
  },
  {
   "cell_type": "code",
   "execution_count": 44,
   "metadata": {},
   "outputs": [
    {
     "name": "stdout",
     "output_type": "stream",
     "text": [
      "('Brigit', 'Marketing')\n",
      "('Emily', 'Engineering')\n",
      "('Roy', 'Human Resources')\n",
      "('Victor', 'Engineering')\n"
     ]
    }
   ],
   "source": [
    "# JOINS \n",
    "\n",
    "data = \"SELECT employees.FirstName, Departments.name  FROM employees INNER JOIN Departments ON  employees.DepartmentID=Departments.id ORDER BY FirstName ASC\"\n",
    "cursor.execute(data)\n",
    "\n",
    "#Fetch Values\n",
    "\n",
    "result = cursor.fetchall()\n",
    "\n",
    "#Print values\n",
    "\n",
    "for row in result:\n",
    "    print(row)"
   ]
  }
 ],
 "metadata": {
  "kernelspec": {
   "display_name": "SQL",
   "language": "python",
   "name": "python3"
  },
  "language_info": {
   "codemirror_mode": {
    "name": "ipython",
    "version": 3
   },
   "file_extension": ".py",
   "mimetype": "text/x-python",
   "name": "python",
   "nbconvert_exporter": "python",
   "pygments_lexer": "ipython3",
   "version": "3.12.1"
  }
 },
 "nbformat": 4,
 "nbformat_minor": 2
}
